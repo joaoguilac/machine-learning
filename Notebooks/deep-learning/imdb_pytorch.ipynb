{
  "nbformat": 4,
  "nbformat_minor": 0,
  "metadata": {
    "colab": {
      "provenance": [],
      "gpuType": "T4"
    },
    "kernelspec": {
      "name": "python3",
      "display_name": "Python 3"
    },
    "language_info": {
      "name": "python"
    },
    "accelerator": "GPU"
  },
  "cells": [
    {
      "cell_type": "code",
      "source": [
        "! pip install datasets"
      ],
      "metadata": {
        "colab": {
          "base_uri": "https://localhost:8080/"
        },
        "id": "tslnekFqlZd3",
        "outputId": "ac3bc1e6-4e22-415c-f794-f70cef41a497"
      },
      "execution_count": null,
      "outputs": [
        {
          "output_type": "stream",
          "name": "stdout",
          "text": [
            "Collecting datasets\n",
            "  Downloading datasets-3.2.0-py3-none-any.whl.metadata (20 kB)\n",
            "Requirement already satisfied: filelock in /usr/local/lib/python3.10/dist-packages (from datasets) (3.16.1)\n",
            "Requirement already satisfied: numpy>=1.17 in /usr/local/lib/python3.10/dist-packages (from datasets) (1.26.4)\n",
            "Requirement already satisfied: pyarrow>=15.0.0 in /usr/local/lib/python3.10/dist-packages (from datasets) (17.0.0)\n",
            "Collecting dill<0.3.9,>=0.3.0 (from datasets)\n",
            "  Downloading dill-0.3.8-py3-none-any.whl.metadata (10 kB)\n",
            "Requirement already satisfied: pandas in /usr/local/lib/python3.10/dist-packages (from datasets) (2.2.2)\n",
            "Requirement already satisfied: requests>=2.32.2 in /usr/local/lib/python3.10/dist-packages (from datasets) (2.32.3)\n",
            "Requirement already satisfied: tqdm>=4.66.3 in /usr/local/lib/python3.10/dist-packages (from datasets) (4.66.6)\n",
            "Collecting xxhash (from datasets)\n",
            "  Downloading xxhash-3.5.0-cp310-cp310-manylinux_2_17_x86_64.manylinux2014_x86_64.whl.metadata (12 kB)\n",
            "Collecting multiprocess<0.70.17 (from datasets)\n",
            "  Downloading multiprocess-0.70.16-py310-none-any.whl.metadata (7.2 kB)\n",
            "Collecting fsspec<=2024.9.0,>=2023.1.0 (from fsspec[http]<=2024.9.0,>=2023.1.0->datasets)\n",
            "  Downloading fsspec-2024.9.0-py3-none-any.whl.metadata (11 kB)\n",
            "Requirement already satisfied: aiohttp in /usr/local/lib/python3.10/dist-packages (from datasets) (3.11.9)\n",
            "Requirement already satisfied: huggingface-hub>=0.23.0 in /usr/local/lib/python3.10/dist-packages (from datasets) (0.26.3)\n",
            "Requirement already satisfied: packaging in /usr/local/lib/python3.10/dist-packages (from datasets) (24.2)\n",
            "Requirement already satisfied: pyyaml>=5.1 in /usr/local/lib/python3.10/dist-packages (from datasets) (6.0.2)\n",
            "Requirement already satisfied: aiohappyeyeballs>=2.3.0 in /usr/local/lib/python3.10/dist-packages (from aiohttp->datasets) (2.4.4)\n",
            "Requirement already satisfied: aiosignal>=1.1.2 in /usr/local/lib/python3.10/dist-packages (from aiohttp->datasets) (1.3.1)\n",
            "Requirement already satisfied: async-timeout<6.0,>=4.0 in /usr/local/lib/python3.10/dist-packages (from aiohttp->datasets) (4.0.3)\n",
            "Requirement already satisfied: attrs>=17.3.0 in /usr/local/lib/python3.10/dist-packages (from aiohttp->datasets) (24.2.0)\n",
            "Requirement already satisfied: frozenlist>=1.1.1 in /usr/local/lib/python3.10/dist-packages (from aiohttp->datasets) (1.5.0)\n",
            "Requirement already satisfied: multidict<7.0,>=4.5 in /usr/local/lib/python3.10/dist-packages (from aiohttp->datasets) (6.1.0)\n",
            "Requirement already satisfied: propcache>=0.2.0 in /usr/local/lib/python3.10/dist-packages (from aiohttp->datasets) (0.2.1)\n",
            "Requirement already satisfied: yarl<2.0,>=1.17.0 in /usr/local/lib/python3.10/dist-packages (from aiohttp->datasets) (1.18.3)\n",
            "Requirement already satisfied: typing-extensions>=3.7.4.3 in /usr/local/lib/python3.10/dist-packages (from huggingface-hub>=0.23.0->datasets) (4.12.2)\n",
            "Requirement already satisfied: charset-normalizer<4,>=2 in /usr/local/lib/python3.10/dist-packages (from requests>=2.32.2->datasets) (3.4.0)\n",
            "Requirement already satisfied: idna<4,>=2.5 in /usr/local/lib/python3.10/dist-packages (from requests>=2.32.2->datasets) (3.10)\n",
            "Requirement already satisfied: urllib3<3,>=1.21.1 in /usr/local/lib/python3.10/dist-packages (from requests>=2.32.2->datasets) (2.2.3)\n",
            "Requirement already satisfied: certifi>=2017.4.17 in /usr/local/lib/python3.10/dist-packages (from requests>=2.32.2->datasets) (2024.8.30)\n",
            "Requirement already satisfied: python-dateutil>=2.8.2 in /usr/local/lib/python3.10/dist-packages (from pandas->datasets) (2.8.2)\n",
            "Requirement already satisfied: pytz>=2020.1 in /usr/local/lib/python3.10/dist-packages (from pandas->datasets) (2024.2)\n",
            "Requirement already satisfied: tzdata>=2022.7 in /usr/local/lib/python3.10/dist-packages (from pandas->datasets) (2024.2)\n",
            "Requirement already satisfied: six>=1.5 in /usr/local/lib/python3.10/dist-packages (from python-dateutil>=2.8.2->pandas->datasets) (1.16.0)\n",
            "Downloading datasets-3.2.0-py3-none-any.whl (480 kB)\n",
            "\u001b[2K   \u001b[90m━━━━━━━━━━━━━━━━━━━━━━━━━━━━━━━━━━━━━━━━\u001b[0m \u001b[32m480.6/480.6 kB\u001b[0m \u001b[31m29.0 MB/s\u001b[0m eta \u001b[36m0:00:00\u001b[0m\n",
            "\u001b[?25hDownloading dill-0.3.8-py3-none-any.whl (116 kB)\n",
            "\u001b[2K   \u001b[90m━━━━━━━━━━━━━━━━━━━━━━━━━━━━━━━━━━━━━━━━\u001b[0m \u001b[32m116.3/116.3 kB\u001b[0m \u001b[31m12.7 MB/s\u001b[0m eta \u001b[36m0:00:00\u001b[0m\n",
            "\u001b[?25hDownloading fsspec-2024.9.0-py3-none-any.whl (179 kB)\n",
            "\u001b[2K   \u001b[90m━━━━━━━━━━━━━━━━━━━━━━━━━━━━━━━━━━━━━━━━\u001b[0m \u001b[32m179.3/179.3 kB\u001b[0m \u001b[31m16.6 MB/s\u001b[0m eta \u001b[36m0:00:00\u001b[0m\n",
            "\u001b[?25hDownloading multiprocess-0.70.16-py310-none-any.whl (134 kB)\n",
            "\u001b[2K   \u001b[90m━━━━━━━━━━━━━━━━━━━━━━━━━━━━━━━━━━━━━━━━\u001b[0m \u001b[32m134.8/134.8 kB\u001b[0m \u001b[31m13.6 MB/s\u001b[0m eta \u001b[36m0:00:00\u001b[0m\n",
            "\u001b[?25hDownloading xxhash-3.5.0-cp310-cp310-manylinux_2_17_x86_64.manylinux2014_x86_64.whl (194 kB)\n",
            "\u001b[2K   \u001b[90m━━━━━━━━━━━━━━━━━━━━━━━━━━━━━━━━━━━━━━━━\u001b[0m \u001b[32m194.1/194.1 kB\u001b[0m \u001b[31m20.4 MB/s\u001b[0m eta \u001b[36m0:00:00\u001b[0m\n",
            "\u001b[?25hInstalling collected packages: xxhash, fsspec, dill, multiprocess, datasets\n",
            "  Attempting uninstall: fsspec\n",
            "    Found existing installation: fsspec 2024.10.0\n",
            "    Uninstalling fsspec-2024.10.0:\n",
            "      Successfully uninstalled fsspec-2024.10.0\n",
            "\u001b[31mERROR: pip's dependency resolver does not currently take into account all the packages that are installed. This behaviour is the source of the following dependency conflicts.\n",
            "gcsfs 2024.10.0 requires fsspec==2024.10.0, but you have fsspec 2024.9.0 which is incompatible.\u001b[0m\u001b[31m\n",
            "\u001b[0mSuccessfully installed datasets-3.2.0 dill-0.3.8 fsspec-2024.9.0 multiprocess-0.70.16 xxhash-3.5.0\n"
          ]
        }
      ]
    },
    {
      "cell_type": "code",
      "execution_count": null,
      "metadata": {
        "id": "xAv608yWkRar"
      },
      "outputs": [],
      "source": [
        "import torch\n",
        "import torch.nn as nn\n",
        "import torch.optim as optim\n",
        "import matplotlib.pyplot as plt\n",
        "import numpy as np\n",
        "import seaborn as sns\n",
        "from torch.utils.data import Dataset, DataLoader\n",
        "from datasets import load_dataset\n",
        "from transformers import AutoTokenizer\n",
        "from sklearn.metrics import confusion_matrix\n",
        "from sklearn.model_selection import train_test_split\n",
        "from tqdm import tqdm"
      ]
    },
    {
      "cell_type": "code",
      "source": [
        "class IMDBDataset(Dataset):\n",
        "    def __init__(self, split='train', max_length=2048):\n",
        "        self.dataset = load_dataset('imdb')[split]\n",
        "        self.tokenizer = AutoTokenizer.from_pretrained('distilbert-base-uncased')\n",
        "        self.max_length = max_length\n",
        "\n",
        "    def __len__(self):\n",
        "        return len(self.dataset)\n",
        "\n",
        "    def __getitem__(self, idx):\n",
        "        item = self.dataset[idx]\n",
        "        text = item['text']\n",
        "        label = item['label']\n",
        "\n",
        "        # tokenizar texto\n",
        "        encoding = self.tokenizer(\n",
        "            text,\n",
        "            max_length=self.max_length,\n",
        "            padding='max_length',\n",
        "            truncation=True,\n",
        "            return_tensors='pt'\n",
        "        )\n",
        "\n",
        "        return {\n",
        "            'input_ids': encoding['input_ids'].squeeze(),\n",
        "            'label': torch.tensor(label, dtype=torch.float32),\n",
        "            'text': text\n",
        "        }"
      ],
      "metadata": {
        "id": "gGpAFVcIls9B"
      },
      "execution_count": null,
      "outputs": []
    },
    {
      "cell_type": "code",
      "source": [
        "class SentimentClassifier(nn.Module):\n",
        "    def __init__(self,\n",
        "                 vocab_size,\n",
        "                 embedding_dim,\n",
        "                 hidden_dim,\n",
        "                 output_dim,\n",
        "                 dropout):\n",
        "        super().__init__()\n",
        "\n",
        "        self.embedding = nn.Embedding(vocab_size, embedding_dim)\n",
        "        self.rnn = nn.LSTM(embedding_dim, hidden_dim, batch_first=True) # (B, T, D)\n",
        "        self.dense1 = nn.Linear(hidden_dim, 128)\n",
        "        self.act = nn.ReLU()\n",
        "        self.dense2 = nn.Linear(128, output_dim)\n",
        "        self.dropout = nn.Dropout(dropout)\n",
        "        self.sigmoid = nn.Sigmoid()\n",
        "\n",
        "    def forward(self, tokens):\n",
        "        embeddings = self.embedding(tokens)\n",
        "\n",
        "        y, (h_t, c_t) = self.rnn(embeddings)\n",
        "        out = self.dropout(h_t[-1,:,:])\n",
        "        out = self.dense1(out)\n",
        "        out = self.act(out)\n",
        "        out = self.dense2(out)\n",
        "        out = self.sigmoid(out)\n",
        "\n",
        "        return out"
      ],
      "metadata": {
        "id": "uh4_btH0oUPP"
      },
      "execution_count": null,
      "outputs": []
    },
    {
      "cell_type": "code",
      "source": [
        "class SentimentClassifier_CNN(nn.Module):\n",
        "    def __init__(self,\n",
        "                 vocab_size,\n",
        "                 embedding_dim,\n",
        "                 interm_dim,\n",
        "                 output_dim,\n",
        "                 dropout,\n",
        "                 pad_idx,\n",
        "                 filters = [128, 256],\n",
        "                 kernel = 5):\n",
        "        super().__init__()\n",
        "\n",
        "        # embedding layer\n",
        "        self.embedding = nn.Embedding(vocab_size,\n",
        "                                      embedding_dim,\n",
        "                                      padding_idx=pad_idx)\n",
        "\n",
        "        # first convolutional layer [B, 2048, 64]\n",
        "        self.conv1 = nn.Conv1d(in_channels=embedding_dim,\n",
        "                               out_channels=filters[0],\n",
        "                               kernel_size=kernel,\n",
        "                               stride=1,\n",
        "                               padding='same')\n",
        "\n",
        "        # dim saída: [B, 2048, 64]\n",
        "        self.conv2 = nn.Conv1d(in_channels=filters[0],\n",
        "                               out_channels=filters[1],\n",
        "                               kernel_size=kernel,\n",
        "                               stride=1,\n",
        "                               padding='same')\n",
        "        # pooling\n",
        "        self.pool = nn.MaxPool1d(kernel_size=2)\n",
        "        self.act = nn.LeakyReLU(0.1)\n",
        "        self.dense1 = nn.Linear(in_features=filters[0]*filters[1], out_features=interm_dim)\n",
        "        self.dense2 = nn.Linear(in_features=interm_dim, out_features=output_dim)\n",
        "        self.dropout = nn.Dropout(dropout)\n",
        "        self.sigmoid = nn.Sigmoid()\n",
        "\n",
        "    def forward(self, tokens):\n",
        "        # [B, 2048, 1]\n",
        "        embedded = self.embedding(tokens).permute(0,2,1)\n",
        "\n",
        "        # [B, 2048, 64]\n",
        "        # first convolutional layer\n",
        "        out = self.conv1(embedded)\n",
        "        out = self.pool(out)\n",
        "        out = self.act(out)\n",
        "\n",
        "        # [B, 1024, 128]\n",
        "        # second convolutional layer\n",
        "        out = self.conv2(out)\n",
        "        out = self.pool(out)\n",
        "        out = self.act(out)\n",
        "\n",
        "        # [B, 512, 256]\n",
        "        out = self.dense1(out)\n",
        "        out = self.dropout(out)\n",
        "        out = self.act(out)\n",
        "\n",
        "        # [B, 128]\n",
        "        out = self.dense2(out)\n",
        "        out = self.sigmoid(out)\n",
        "\n",
        "        # [B, 1]\n",
        "        return out"
      ],
      "metadata": {
        "id": "MO5luhDl5JvC"
      },
      "execution_count": null,
      "outputs": []
    },
    {
      "cell_type": "code",
      "source": [
        "def train_model(model,\n",
        "                train_loader,\n",
        "                valid_loader,\n",
        "                criterion,\n",
        "                optimizer,\n",
        "                n_epochs,\n",
        "                device):\n",
        "    history = {\n",
        "        'train_loss': [],\n",
        "        'valid_loss': [],\n",
        "        'train_acc': [],\n",
        "        'valid_acc': []\n",
        "    }\n",
        "\n",
        "    for epoch in range(n_epochs):\n",
        "        model.train()\n",
        "        train_loss = 0.0\n",
        "        train_acc = 0.0\n",
        "\n",
        "        for batch_idx, batch in enumerate(train_loader):\n",
        "            input_ids = batch['input_ids'].to(device)\n",
        "            labels = batch['label'].to(device)\n",
        "\n",
        "            optimizer.zero_grad()\n",
        "\n",
        "            # processo forward\n",
        "            predictions = model(input_ids).squeeze()\n",
        "\n",
        "            # calcula custo\n",
        "            loss = criterion(predictions, labels)\n",
        "\n",
        "            # processo backward\n",
        "            loss.backward()\n",
        "\n",
        "            # atualiza pesos\n",
        "            optimizer.step()\n",
        "\n",
        "            # training losses\n",
        "            train_loss += loss.item()\n",
        "            predictions = (predictions > 0.5).float()\n",
        "            train_acc += (predictions == labels).sum().item() / len(labels)\n",
        "\n",
        "        # validação\n",
        "        model.eval()\n",
        "        valid_loss = 0.0\n",
        "        valid_acc = 0.0\n",
        "\n",
        "        with torch.no_grad():\n",
        "            for batch_idx, batch in enumerate(valid_loader):\n",
        "                input_ids = batch['input_ids'].to(device)\n",
        "                labels = batch['label'].to(device)\n",
        "\n",
        "                # processo forward\n",
        "                predictions = model(input_ids).squeeze()\n",
        "\n",
        "                # calcula custo\n",
        "                loss = criterion(predictions, labels)\n",
        "\n",
        "                # training losses\n",
        "                valid_loss += loss.item()\n",
        "                predictions = (predictions > 0.5).float()\n",
        "                valid_acc += (predictions == labels).sum().item() / len(labels)\n",
        "\n",
        "        train_loss /= len(train_loader)\n",
        "        valid_loss /= len(valid_loader)\n",
        "        train_acc /= len(train_loader)\n",
        "        valid_acc /= len(valid_loader)\n",
        "\n",
        "        print(f'Epoch: {epoch+1}, train loss: {train_loss:.4f}, train acc: {train_acc:.4f}, valid loss: {valid_loss:.4f}, valid acc: {valid_acc:.4f}')\n",
        "\n",
        "        history['train_loss'].append(train_loss)\n",
        "        history['train_acc'].append(train_acc)\n",
        "        history['valid_loss'].append(valid_loss)\n",
        "        history['valid_acc'].append(valid_acc)\n",
        "\n",
        "    return history\n"
      ],
      "metadata": {
        "id": "anxUhvPSqpi0"
      },
      "execution_count": null,
      "outputs": []
    },
    {
      "cell_type": "code",
      "source": [
        "device = torch.device('cuda' if torch.cuda.is_available() else 'cpu')\n",
        "device"
      ],
      "metadata": {
        "colab": {
          "base_uri": "https://localhost:8080/"
        },
        "id": "frjPcNievbRc",
        "outputId": "78ba7643-ce49-4f8d-88ac-7067f67a3b19"
      },
      "execution_count": null,
      "outputs": [
        {
          "output_type": "execute_result",
          "data": {
            "text/plain": [
              "device(type='cuda')"
            ]
          },
          "metadata": {},
          "execution_count": 7
        }
      ]
    },
    {
      "cell_type": "code",
      "source": [
        "train_dataset = IMDBDataset(split='train', max_length=2048)\n",
        "valid_dataset = IMDBDataset(split='test', max_length=2048)"
      ],
      "metadata": {
        "id": "JXl5WbHMv2f2"
      },
      "execution_count": null,
      "outputs": []
    },
    {
      "cell_type": "code",
      "source": [
        "# entradas\n",
        "indices = list(range(len(test_dataset)))\n",
        "\n",
        "# divisão\n",
        "valid_indices, test_indices = train_test_split(indices, test_size=0.5, stratify=[])\n",
        "\n",
        "# coleta subsets\n",
        "valid_dataset = torch.utils.data.Subset(test_dataset, valid_indices)\n",
        "test_dataset = torch.utils.data.Subset(test_dataset, test_indices)"
      ],
      "metadata": {
        "id": "Qno_vUsECcfK"
      },
      "execution_count": null,
      "outputs": []
    },
    {
      "cell_type": "code",
      "source": [
        "train_loader = DataLoader(train_dataset, batch_size=32, shuffle=True)\n",
        "valid_loader = DataLoader(valid_dataset, batch_size=32, shuffle=False)"
      ],
      "metadata": {
        "id": "BBUM70AixbJ1"
      },
      "execution_count": null,
      "outputs": []
    },
    {
      "cell_type": "code",
      "source": [
        "tokenizer = AutoTokenizer.from_pretrained('distilbert-base-uncased')\n",
        "num_tokens = tokenizer.vocab_size\n",
        "num_tokens"
      ],
      "metadata": {
        "colab": {
          "base_uri": "https://localhost:8080/"
        },
        "id": "RBNRFMLmx10f",
        "outputId": "644ee10b-118b-4499-a6c3-5d25c6684ca6"
      },
      "execution_count": null,
      "outputs": [
        {
          "output_type": "execute_result",
          "data": {
            "text/plain": [
              "30522"
            ]
          },
          "metadata": {},
          "execution_count": 67
        }
      ]
    },
    {
      "cell_type": "code",
      "source": [
        "# inicializar o modelo\n",
        "model = SentimentClassifier(\n",
        "    vocab_size=num_tokens,\n",
        "    embedding_dim=64,\n",
        "    hidden_dim=32,\n",
        "    output_dim=1,\n",
        "    dropout=0.5\n",
        ").to(device)\n",
        "\n",
        "criterion = nn.BCELoss()\n",
        "optimizer = optim.Adam(model.parameters())"
      ],
      "metadata": {
        "id": "hAYeoiwyxkjX"
      },
      "execution_count": null,
      "outputs": []
    },
    {
      "cell_type": "code",
      "source": [
        "# inicializar o modelo\n",
        "model = SentimentClassifier_CNN(\n",
        "    vocab_size=num_tokens,\n",
        "    embedding_dim=64,\n",
        "    interm_dim=32,\n",
        "    output_dim=1,\n",
        "    dropout=0.5,\n",
        "    filters = [128, 256],\n",
        "    kernel = 5,\n",
        "    pad_idx=tokenizer.pad_token_id\n",
        ").to(device)\n",
        "\n",
        "criterion = nn.BCELoss()\n",
        "optimizer = optim.Adam(model.parameters())"
      ],
      "metadata": {
        "id": "3NWVuJazDHgZ"
      },
      "execution_count": null,
      "outputs": []
    },
    {
      "cell_type": "code",
      "source": [
        "model"
      ],
      "metadata": {
        "colab": {
          "base_uri": "https://localhost:8080/"
        },
        "id": "eUbEp8fozjgM",
        "outputId": "ee77a321-66ed-47e9-d3e3-e8746f16479b"
      },
      "execution_count": null,
      "outputs": [
        {
          "output_type": "execute_result",
          "data": {
            "text/plain": [
              "SentimentClassifier(\n",
              "  (embedding): Embedding(30522, 64)\n",
              "  (rnn): LSTM(64, 32, batch_first=True)\n",
              "  (dense1): Linear(in_features=32, out_features=128, bias=True)\n",
              "  (act): ReLU()\n",
              "  (dense2): Linear(in_features=128, out_features=1, bias=True)\n",
              "  (dropout): Dropout(p=0.5, inplace=False)\n",
              "  (sigmoid): Sigmoid()\n",
              ")"
            ]
          },
          "metadata": {},
          "execution_count": 60
        }
      ]
    },
    {
      "cell_type": "code",
      "source": [
        "# treinamento do modelo\n",
        "history = train_model(\n",
        "    model,\n",
        "    train_loader,\n",
        "    valid_loader,\n",
        "    criterion,\n",
        "    optimizer,\n",
        "    n_epochs=5,\n",
        "    device=device\n",
        ")"
      ],
      "metadata": {
        "colab": {
          "base_uri": "https://localhost:8080/"
        },
        "id": "sRudEdcSz8zG",
        "outputId": "bf7f7a42-59d8-4fc0-9c7c-af5b6bf08fef"
      },
      "execution_count": null,
      "outputs": [
        {
          "output_type": "stream",
          "name": "stdout",
          "text": [
            "Epoch: 1, train loss: 0.6940, train acc: 0.4996, valid loss: 0.6929, valid acc: 0.5083\n",
            "Epoch: 2, train loss: 0.6900, train acc: 0.5231, valid loss: 0.6843, valid acc: 0.5368\n",
            "Epoch: 3, train loss: 0.6715, train acc: 0.5626, valid loss: 0.6809, valid acc: 0.5420\n",
            "Epoch: 4, train loss: 0.6457, train acc: 0.5954, valid loss: 0.6963, valid acc: 0.5388\n",
            "Epoch: 5, train loss: 0.6277, train acc: 0.6133, valid loss: 0.6909, valid acc: 0.5642\n"
          ]
        }
      ]
    },
    {
      "cell_type": "code",
      "source": [
        "def make_plots(history):\n",
        "    # losses\n",
        "    loss_values = history['train_loss']\n",
        "    val_loss_values = history['valid_loss']\n",
        "\n",
        "    # accuracy\n",
        "    accuracies = history['train_acc']\n",
        "    val_accuracies = history['valid_acc']\n",
        "\n",
        "    epochs = range(len(accuracies))\n",
        "\n",
        "    fig, (ax1, ax2) = plt.subplots(2, 1, figsize=(8,8))\n",
        "\n",
        "    ax1.plot(epochs, loss_values, 'b', label='Training Loss')\n",
        "    ax1.plot(epochs, val_loss_values, 'r', label='Validation Loss')\n",
        "    ax1.set_title('Training and Validation Loss')\n",
        "    ax1.set_xlabel('Epochs')\n",
        "    ax1.set_ylabel('Loss')\n",
        "    ax1.legend()\n",
        "\n",
        "    ax2.plot(epochs, accuracies, 'b', label='Validation Acc')\n",
        "    ax2.plot(epochs, val_accuracies, 'r', label='Training Acc')\n",
        "    ax2.set_title('Training and Validation Accuracies')\n",
        "    ax2.set_xlabel('Epochs')\n",
        "    ax2.set_ylabel('Loss')\n",
        "    ax2.legend()"
      ],
      "metadata": {
        "colab": {
          "base_uri": "https://localhost:8080/",
          "height": 735
        },
        "id": "_NpW3uT_3ou-",
        "outputId": "1bc83d46-6f86-4e71-981a-469d5228825f"
      },
      "execution_count": null,
      "outputs": [
        {
          "output_type": "execute_result",
          "data": {
            "text/plain": [
              "<matplotlib.legend.Legend at 0x7ee4ff931f00>"
            ]
          },
          "metadata": {},
          "execution_count": 73
        },
        {
          "output_type": "display_data",
          "data": {
            "text/plain": [
              "<Figure size 800x800 with 2 Axes>"
            ],
            "image/png": "[encoded data removed]"
          },
          "metadata": {}
        }
      ]
    }
  ]
}